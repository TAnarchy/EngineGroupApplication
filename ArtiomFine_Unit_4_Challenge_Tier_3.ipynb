{
  "nbformat": 4,
  "nbformat_minor": 0,
  "metadata": {
    "kernelspec": {
      "display_name": "Python 3",
      "language": "python",
      "name": "python3"
    },
    "language_info": {
      "codemirror_mode": {
        "name": "ipython",
        "version": 3
      },
      "file_extension": ".py",
      "mimetype": "text/x-python",
      "name": "python",
      "nbconvert_exporter": "python",
      "pygments_lexer": "ipython3",
      "version": "3.7.3"
    },
    "colab": {
      "name": "ArtiomFine Unit 4 Challenge - Tier 3.ipynb",
      "provenance": [],
      "collapsed_sections": []
    }
  },
  "cells": [
    {
      "cell_type": "markdown",
      "metadata": {
        "id": "Tia3MP1SJpgj",
        "colab_type": "text"
      },
      "source": [
        "# Springboard Data Science Career Track Unit 4 Challenge - Tier 3 Complete\n",
        "\n",
        "## Objectives\n",
        "Hey! Great job getting through those challenging DataCamp courses. You're learning a lot in a short span of time. \n",
        "\n",
        "In this notebook, you're going to apply the skills you've been learning, bridging the gap between the controlled environment of DataCamp and the *slightly* messier work that data scientists do with actual datasets!\n",
        "\n",
        "Here’s the mystery we’re going to solve: ***which boroughs of London have seen the greatest increase in housing prices, on average, over the last two decades?***\n",
        "\n",
        "\n",
        "A borough is just a fancy word for district. You may be familiar with the five boroughs of New York… well, there are 32 boroughs within Greater London [(here's some info for the curious)](https://en.wikipedia.org/wiki/London_boroughs). Some of them are more desirable areas to live in, and the data will reflect that with a greater rise in housing prices.\n",
        "\n",
        "***This is the Tier 3 notebook, which means it's not filled in at all: we'll just give you the skeleton of a project, the brief and the data. It's up to you to play around with it and see what you can find out! Good luck! If you struggle, feel free to look at easier tiers for help; but try to dip in and out of them, as the more independent work you do, the better it is for your learning!***\n",
        "\n",
        "This challenge will make use of only what you learned in the following DataCamp courses: \n",
        "- Prework courses (Introduction to Python for Data Science, Intermediate Python for Data Science)\n",
        "- Data Types for Data Science\n",
        "- Python Data Science Toolbox (Part One) \n",
        "- pandas Foundations\n",
        "- Manipulating DataFrames with pandas\n",
        "- Merging DataFrames with pandas\n",
        "\n",
        "Of the tools, techniques and concepts in the above DataCamp courses, this challenge should require the application of the following: \n",
        "- **pandas**\n",
        "    - **data ingestion and inspection** (pandas Foundations, Module One) \n",
        "    - **exploratory data analysis** (pandas Foundations, Module Two)\n",
        "    - **tidying and cleaning** (Manipulating DataFrames with pandas, Module Three) \n",
        "    - **transforming DataFrames** (Manipulating DataFrames with pandas, Module One)\n",
        "    - **subsetting DataFrames with lists** (Manipulating DataFrames with pandas, Module One) \n",
        "    - **filtering DataFrames** (Manipulating DataFrames with pandas, Module One) \n",
        "    - **grouping data** (Manipulating DataFrames with pandas, Module Four) \n",
        "    - **melting data** (Manipulating DataFrames with pandas, Module Three) \n",
        "    - **advanced indexing** (Manipulating DataFrames with pandas, Module Four) \n",
        "- **matplotlib** (Intermediate Python for Data Science, Module One)\n",
        "- **fundamental data types** (Data Types for Data Science, Module One) \n",
        "- **dictionaries** (Intermediate Python for Data Science, Module Two)\n",
        "- **handling dates and times** (Data Types for Data Science, Module Four)\n",
        "- **function definition** (Python Data Science Toolbox - Part One, Module One)\n",
        "- **default arguments, variable length, and scope** (Python Data Science Toolbox - Part One, Module Two) \n",
        "- **lambda functions and error handling** (Python Data Science Toolbox - Part One, Module Four) "
      ]
    },
    {
      "cell_type": "markdown",
      "metadata": {
        "id": "Ipgd2nV8Jpgl",
        "colab_type": "text"
      },
      "source": [
        "## The Data Science Pipeline\n",
        "\n",
        "This is Tier Three, so we'll get you started. But after that, it's all in your hands! When you feel done with your investigations, look back over what you've accomplished, and prepare a quick presentation of your findings for the next mentor meeting. \n",
        "\n",
        "Data Science is magical. In this case study, you'll get to apply some complex machine learning algorithms. But as  [David Spiegelhalter](https://www.youtube.com/watch?v=oUs1uvsz0Ok) reminds us, there is no substitute for simply **taking a really, really good look at the data.** Sometimes, this is all we need to answer our question.\n",
        "\n",
        "Data Science projects generally adhere to the four stages of Data Science Pipeline:\n",
        "1. Sourcing and loading \n",
        "2. Cleaning, transforming, and visualizing \n",
        "3. Modeling \n",
        "4. Evaluating and concluding \n"
      ]
    },
    {
      "cell_type": "markdown",
      "metadata": {
        "id": "zswDqbefJpgm",
        "colab_type": "text"
      },
      "source": [
        "### 1. Sourcing and Loading \n",
        "\n",
        "Any Data Science project kicks off by importing  ***pandas***. The documentation of this wonderful library can be found [here](https://pandas.pydata.org/). As you've seen, pandas is conveniently connected to the [Numpy](http://www.numpy.org/) and [Matplotlib](https://matplotlib.org/) libraries. \n",
        "\n",
        "***Hint:*** This part of the data science pipeline will test those skills you acquired in the pandas Foundations course, Module One. "
      ]
    },
    {
      "cell_type": "markdown",
      "metadata": {
        "id": "aEau5nEvJpgm",
        "colab_type": "text"
      },
      "source": [
        "#### 1.1. Importing Libraries"
      ]
    },
    {
      "cell_type": "code",
      "metadata": {
        "id": "7Bt_Q_oPJpgn",
        "colab_type": "code",
        "colab": {}
      },
      "source": [
        "# Let's import the pandas, numpy libraries as pd, and np respectively. \n",
        "import pandas as pd\n",
        "import numpy as np\n",
        "\n",
        "# Load the pyplot collection of functions from matplotlib, as plt \n",
        "import matplotlib.pyplot as plt \n"
      ],
      "execution_count": 0,
      "outputs": []
    },
    {
      "cell_type": "markdown",
      "metadata": {
        "id": "koUrawxsJpgq",
        "colab_type": "text"
      },
      "source": [
        "#### 1.2.  Loading the data\n",
        "Your data comes from the [London Datastore](https://data.london.gov.uk/): a free, open-source data-sharing portal for London-oriented datasets. "
      ]
    },
    {
      "cell_type": "code",
      "metadata": {
        "id": "AiLiD4v3Jpgr",
        "colab_type": "code",
        "colab": {}
      },
      "source": [
        "# First, make a variable called url_LondonHousePrices, and assign it the following link, enclosed in quotation-marks as a string:\n",
        "# https://data.london.gov.uk/download/uk-house-price-index/70ac0766-8902-4eb5-aab5-01951aaed773/UK%20House%20price%20index.xls\n",
        "\n",
        "url_LondonHousePrices= \"https://data.london.gov.uk/download/uk-house-price-index/70ac0766-8902-4eb5-aab5-01951aaed773/UK%20House%20price%20index.xls\"\n",
        "\n",
        "# The dataset we're interested in contains the Average prices of the houses, and is actually on a particular sheet of the Excel file. \n",
        "# As a result, we need to specify the sheet name in the read_excel() method.\n",
        "# Put this data into a variable called properties.  \n",
        "properties = pd.read_excel(url_LondonHousePrices, sheet_name='Average price', index_col= 0)"
      ],
      "execution_count": 0,
      "outputs": []
    },
    {
      "cell_type": "markdown",
      "metadata": {
        "id": "POukEJXgJpgu",
        "colab_type": "text"
      },
      "source": [
        "### 2. Cleaning, transforming, and visualizing\n",
        "This second stage is arguably the most important part of any Data Science project. The first thing to do is take a proper look at the data. Cleaning forms the majority of this stage, and can be done both before or after Transformation.\n",
        "\n",
        "The end goal of data cleaning is to have tidy data. When data is tidy: \n",
        "\n",
        "1. Each variable has a column.\n",
        "2. Each observation forms a row.\n",
        "\n",
        "Keep the end goal in mind as you move through this process, every step will take you closer. \n",
        "\n",
        "\n",
        "\n",
        "***Hint:*** This part of the data science pipeline should test those skills you acquired in: \n",
        "- Intermediate Python for data science, all modules.\n",
        "- pandas Foundations, all modules. \n",
        "- Manipulating DataFrames with pandas, all modules.\n",
        "- Data Types for Data Science, Module Four.\n",
        "- Python Data Science Toolbox - Part One, all modules"
      ]
    },
    {
      "cell_type": "markdown",
      "metadata": {
        "id": "Te0Q548tnzZa",
        "colab_type": "text"
      },
      "source": [
        "**2.1. Exploring your data** \n",
        "\n",
        "Think about your pandas functions for checking out a dataframe. "
      ]
    },
    {
      "cell_type": "code",
      "metadata": {
        "id": "Rxirxw_qoAJa",
        "colab_type": "code",
        "colab": {
          "base_uri": "https://localhost:8080/",
          "height": 428
        },
        "outputId": "c3922a72-7ac1-41b1-d3d1-10dcc32688e4"
      },
      "source": [
        "#changing value to date, exploring data\n",
        "properties.index.name=\"Date\"\n",
        "\n",
        "print(properties.columns)\n",
        "print(properties.head())\n",
        "\n",
        "print(properties.head(10).index.tolist())\n",
        "print(properties.tail(3).index.tolist())\n",
        "#print(properties.loc[['1995-01-01','2020-01-01']])\n"
      ],
      "execution_count": 17,
      "outputs": [
        {
          "output_type": "stream",
          "text": [
            "Index(['City of London', 'Barking & Dagenham', 'Barnet', 'Bexley', 'Brent',\n",
            "       'Bromley', 'Camden', 'Croydon', 'Ealing', 'Enfield', 'Greenwich',\n",
            "       'Hackney', 'Hammersmith & Fulham', 'Haringey', 'Harrow', 'Havering',\n",
            "       'Hillingdon', 'Hounslow', 'Islington', 'Kensington & Chelsea',\n",
            "       'Kingston upon Thames', 'Lambeth', 'Lewisham', 'Merton', 'Newham',\n",
            "       'Redbridge', 'Richmond upon Thames', 'Southwark', 'Sutton',\n",
            "       'Tower Hamlets', 'Waltham Forest', 'Wandsworth', 'Westminster',\n",
            "       'Unnamed: 34', 'Inner London', 'Outer London', 'Unnamed: 37',\n",
            "       'NORTH EAST', 'NORTH WEST', 'YORKS & THE HUMBER', 'EAST MIDLANDS',\n",
            "       'WEST MIDLANDS', 'EAST OF ENGLAND', 'LONDON', 'SOUTH EAST',\n",
            "       'SOUTH WEST', 'Unnamed: 47', 'England'],\n",
            "      dtype='object')\n",
            "           City of London Barking & Dagenham  ... Unnamed: 47    England\n",
            "Date                                          ...                       \n",
            "NaT             E09000001          E09000002  ...         NaN  E92000001\n",
            "1995-01-01          91449            50460.2  ...         NaN    53202.8\n",
            "1995-02-01        82202.8            51085.8  ...         NaN    53096.2\n",
            "1995-03-01        79120.7              51269  ...         NaN    53201.3\n",
            "1995-04-01        77101.2            53133.5  ...         NaN    53590.9\n",
            "\n",
            "[5 rows x 48 columns]\n",
            "[NaT, Timestamp('1995-01-01 00:00:00'), Timestamp('1995-02-01 00:00:00'), Timestamp('1995-03-01 00:00:00'), Timestamp('1995-04-01 00:00:00'), Timestamp('1995-05-01 00:00:00'), Timestamp('1995-06-01 00:00:00'), Timestamp('1995-07-01 00:00:00'), Timestamp('1995-08-01 00:00:00'), Timestamp('1995-09-01 00:00:00')]\n",
            "[Timestamp('2019-11-01 00:00:00'), Timestamp('2019-12-01 00:00:00'), Timestamp('2020-01-01 00:00:00')]\n"
          ],
          "name": "stdout"
        }
      ]
    },
    {
      "cell_type": "markdown",
      "metadata": {
        "id": "tE9Sqt9-oAta",
        "colab_type": "text"
      },
      "source": [
        "**2.2. Cleaning the data**\n",
        "\n",
        "You might find you need to transpose your dataframe, check out what its row indexes are, and reset the index. You  also might find you need to assign the values of the first row to your column headings  . (Hint: recall the .columns feature of DataFrames, as well as the iloc[] method).\n",
        "\n",
        "Don't be afraid to use StackOverflow for help  with this."
      ]
    },
    {
      "cell_type": "code",
      "metadata": {
        "id": "cdAu1A3YoH_r",
        "colab_type": "code",
        "colab": {
          "base_uri": "https://localhost:8080/",
          "height": 289
        },
        "outputId": "553ad3a3-bf33-4b35-ccdd-3987db0acfc3"
      },
      "source": [
        "#Dropping empty columns, keeping data that is left\n",
        "properties=properties.dropna(axis='columns')\n",
        "#properties=properties.drop(['Inner London','Outer London','England'],axis=1)\n",
        "properties=properties.iloc[1:,:33]\n",
        "properties_transposed=properties.transpose()\n",
        "\n",
        "print(properties_transposed.columns)\n",
        "print(properties_transposed.head())\n"
      ],
      "execution_count": 18,
      "outputs": [
        {
          "output_type": "stream",
          "text": [
            "DatetimeIndex(['1995-01-01', '1995-02-01', '1995-03-01', '1995-04-01',\n",
            "               '1995-05-01', '1995-06-01', '1995-07-01', '1995-08-01',\n",
            "               '1995-09-01', '1995-10-01',\n",
            "               ...\n",
            "               '2019-04-01', '2019-05-01', '2019-06-01', '2019-07-01',\n",
            "               '2019-08-01', '2019-09-01', '2019-10-01', '2019-11-01',\n",
            "               '2019-12-01', '2020-01-01'],\n",
            "              dtype='datetime64[ns]', name='Date', length=301, freq=None)\n",
            "Date               1995-01-01 1995-02-01  ... 2019-12-01 2020-01-01\n",
            "City of London          91449    82202.8  ...     734872     775309\n",
            "Barking & Dagenham    50460.2    51085.8  ...     301816     301057\n",
            "Barnet                93284.5    93190.2  ...     517986     520682\n",
            "Bexley                64958.1    64787.9  ...     336972     331683\n",
            "Brent                 71306.6    72022.3  ...     431245     408523\n",
            "\n",
            "[5 rows x 301 columns]\n"
          ],
          "name": "stdout"
        }
      ]
    },
    {
      "cell_type": "markdown",
      "metadata": {
        "id": "o1uLbJAsoIjK",
        "colab_type": "text"
      },
      "source": [
        "**2.3. Cleaning the data (part 2)**\n",
        "\n",
        "You might we have to **rename** a couple columns. How do you do this? The clue's pretty bold..."
      ]
    },
    {
      "cell_type": "code",
      "metadata": {
        "id": "GKkmn1AnoVZS",
        "colab_type": "code",
        "colab": {}
      },
      "source": [
        "properties_transposed.index.name=\"Boroughs\""
      ],
      "execution_count": 0,
      "outputs": []
    },
    {
      "cell_type": "markdown",
      "metadata": {
        "id": "jy8BzXHmoWEw",
        "colab_type": "text"
      },
      "source": [
        "**2.4.Transforming the data**\n",
        "\n",
        "Remember what Wes McKinney said about tidy data? \n",
        "\n",
        "You might need to **melt** your DataFrame here. "
      ]
    },
    {
      "cell_type": "code",
      "metadata": {
        "id": "S2wM0qLuo2Zt",
        "colab_type": "code",
        "colab": {}
      },
      "source": [
        "\n",
        "\n"
      ],
      "execution_count": 0,
      "outputs": []
    },
    {
      "cell_type": "markdown",
      "metadata": {
        "id": "7kIsgAo7o3mf",
        "colab_type": "text"
      },
      "source": [
        "Remember to make sure your column data types are all correct. Average prices, for example, should be floating point numbers... "
      ]
    },
    {
      "cell_type": "code",
      "metadata": {
        "id": "ZcR4IHbcpOaq",
        "colab_type": "code",
        "colab": {}
      },
      "source": [
        ""
      ],
      "execution_count": 0,
      "outputs": []
    },
    {
      "cell_type": "markdown",
      "metadata": {
        "id": "knLUXHLypOtw",
        "colab_type": "text"
      },
      "source": [
        "**2.5. Cleaning the data (part 3)**\n",
        "\n",
        "Do we have an equal number of observations in the ID, Average Price, Month, and London Borough columns? Remember that there are only 32 London Boroughs. How many entries do you have in that column? \n",
        "\n",
        "Check out the contents of the London Borough column, and if you find null values, get rid of them however you see fit. "
      ]
    },
    {
      "cell_type": "code",
      "metadata": {
        "id": "BnvTW5a3p0fC",
        "colab_type": "code",
        "colab": {}
      },
      "source": [
        ""
      ],
      "execution_count": 0,
      "outputs": []
    },
    {
      "cell_type": "markdown",
      "metadata": {
        "id": "PGEx6mJsp6dG",
        "colab_type": "text"
      },
      "source": [
        "**2.6. Visualizing the data**\n",
        "\n",
        "To visualize the data, why not subset on a particular London Borough? Maybe do a line plot of Month against Average Price?"
      ]
    },
    {
      "cell_type": "code",
      "metadata": {
        "id": "nAg5pT9cqHAR",
        "colab_type": "code",
        "colab": {
          "base_uri": "https://localhost:8080/",
          "height": 296
        },
        "outputId": "520c8212-cab8-4486-e72e-9786ae26295d"
      },
      "source": [
        "#Plot city of london\n",
        "city_of_london=properties_transposed.loc[\"City of London\"]\n",
        "\n",
        "city_of_london.plot.line()\n"
      ],
      "execution_count": 20,
      "outputs": [
        {
          "output_type": "execute_result",
          "data": {
            "text/plain": [
              "<matplotlib.axes._subplots.AxesSubplot at 0x7fa34cf70710>"
            ]
          },
          "metadata": {
            "tags": []
          },
          "execution_count": 20
        },
        {
          "output_type": "display_data",
          "data": {
            "image/png": "[encoded data removed]",
            "text/plain": [
              "<Figure size 432x288 with 1 Axes>"
            ]
          },
          "metadata": {
            "tags": []
          }
        }
      ]
    },
    {
      "cell_type": "markdown",
      "metadata": {
        "id": "aWTPqSJeqHnC",
        "colab_type": "text"
      },
      "source": [
        "To limit the number of data points you have, you might want to extract the year from every month value your *Month* column. \n",
        "\n",
        "To this end, you *could* apply a ***lambda function***. Your logic could work as follows:\n",
        "1. look through the `Month` column\n",
        "2. extract the year from each individual value in that column \n",
        "3. store that corresponding year as separate column. \n",
        "\n",
        "Whether you go ahead with this is up to you. Just so long as you answer our initial brief: which boroughs of London have seen the greatest house price increase, on average, over the past two decades? "
      ]
    },
    {
      "cell_type": "code",
      "metadata": {
        "id": "e0DF92cyqnu8",
        "colab_type": "code",
        "colab": {
          "base_uri": "https://localhost:8080/",
          "height": 323
        },
        "outputId": "7ad35097-f6dc-445e-e7d7-ad285d35f36b"
      },
      "source": [
        "#resampling by year and transposing\n",
        "properties_year=properties.astype('float').resample('Y').mean()\n",
        "print(properties_year.head())\n",
        "properties_year_transposed=properties_year.transpose()\n",
        "print(properties_year_transposed.head())"
      ],
      "execution_count": 21,
      "outputs": [
        {
          "output_type": "stream",
          "text": [
            "Boroughs    City of London  Barking & Dagenham  ...     Wandsworth    Westminster\n",
            "Date                                            ...                              \n",
            "1995-12-31    99085.008156        51817.969390  ...   88829.083075  133689.233033\n",
            "1996-12-31   105651.057557        51718.192690  ...   92270.037989  139188.760342\n",
            "1997-12-31   117113.442375        55974.262309  ...  108108.356495  165447.591208\n",
            "1998-12-31   148031.894542        60285.821083  ...  125406.807233  190531.949942\n",
            "1999-12-31   171300.061875        65320.934441  ...  145339.809767  214042.702508\n",
            "\n",
            "[5 rows x 33 columns]\n",
            "Date                  1995-12-31     1996-12-31  ...     2019-12-31    2020-12-31\n",
            "Boroughs                                         ...                             \n",
            "City of London      99085.008156  105651.057557  ...  786983.144137  775308.88879\n",
            "Barking & Dagenham  51817.969390   51718.192690  ...  299293.997014  301057.36349\n",
            "Barnet              91792.537433   94000.445448  ...  519552.621184  520681.96788\n",
            "Bexley              64291.532845   65490.417234  ...  337537.312161  331683.17222\n",
            "Brent               73029.841840   75235.918367  ...  474171.938538  408522.50927\n",
            "\n",
            "[5 rows x 26 columns]\n"
          ],
          "name": "stdout"
        }
      ]
    },
    {
      "cell_type": "markdown",
      "metadata": {
        "id": "2knuTxAEqoJ4",
        "colab_type": "text"
      },
      "source": [
        "**3. Modeling**\n",
        "\n",
        "Consider creating a function that will calculate a ratio of house prices, comparing the price of a house in 2018 to the price in 1998.\n",
        "\n",
        "Consider calling this function create_price_ratio.\n",
        "\n",
        "You'd want this function to:\n",
        "1. Take a filter of dfg, specifically where this filter constrains the London_Borough, as an argument. For example, one admissible argument should be: dfg[dfg['London_Borough']=='Camden'].\n",
        "2. Get the Average Price for that Borough, for the years 1998 and 2018.\n",
        "4. Calculate the ratio of the Average Price for 1998 divided by the Average Price for 2018.\n",
        "5. Return that ratio.\n",
        "\n",
        "Once you've written this function, you ultimately want to use it to iterate through all the unique London_Boroughs and work out the ratio capturing the difference of house prices between 1998 and 2018.\n",
        "\n",
        "Bear in mind: you don't have to write a function like this if you don't want to. If you can solve the brief otherwise, then great! \n",
        "\n",
        "***Hint***: This section should test the skills you acquired in:\n",
        "- Python Data Science Toolbox - Part One, all modules"
      ]
    },
    {
      "cell_type": "code",
      "metadata": {
        "id": "cKTyr437UgDa",
        "colab_type": "code",
        "colab": {
          "base_uri": "https://localhost:8080/",
          "height": 612
        },
        "outputId": "512a5416-4f37-41ba-b70b-2aaa304a93f4"
      },
      "source": [
        "#Get the ratios and sorted from highest to lowest\n",
        "properties_max=(properties_year_transposed['1995-12-31']/properties_year_transposed['2020-12-31']).to_frame()\n",
        "sort = properties_max.sort_values(properties_max.columns[0], ascending = False)\n",
        "print(sort)\n"
      ],
      "execution_count": 22,
      "outputs": [
        {
          "output_type": "stream",
          "text": [
            "                             0\n",
            "Boroughs                      \n",
            "Bexley                0.193834\n",
            "Havering              0.190098\n",
            "Sutton                0.189145\n",
            "Bromley               0.187673\n",
            "Croydon               0.186955\n",
            "Enfield               0.183931\n",
            "Harrow                0.181516\n",
            "Brent                 0.178766\n",
            "Hillingdon            0.178487\n",
            "Hounslow              0.176891\n",
            "Barnet                0.176293\n",
            "Redbridge             0.173488\n",
            "Barking & Dagenham    0.172120\n",
            "Ealing                0.171612\n",
            "Kingston upon Thames  0.171420\n",
            "Hammersmith & Fulham  0.164463\n",
            "Kensington & Chelsea  0.163693\n",
            "Richmond upon Thames  0.162776\n",
            "Greenwich             0.161421\n",
            "Merton                0.158498\n",
            "Camden                0.148547\n",
            "Newham                0.147972\n",
            "Wandsworth            0.145560\n",
            "Lewisham              0.142736\n",
            "Islington             0.141896\n",
            "Tower Hamlets         0.141240\n",
            "Haringey              0.138370\n",
            "Waltham Forest        0.135486\n",
            "Westminster           0.131193\n",
            "Lambeth               0.129309\n",
            "Southwark             0.127852\n",
            "City of London        0.127801\n",
            "Hackney               0.115451\n"
          ],
          "name": "stdout"
        }
      ]
    },
    {
      "cell_type": "markdown",
      "metadata": {
        "id": "NzYUI7FxJpgv",
        "colab_type": "text"
      },
      "source": [
        "### 4. Conclusion\n",
        "What can you conclude? Type out your conclusion below. \n",
        "\n",
        "Look back at your notebook. Think about how you might summarize what you have done, and prepare a quick presentation on it to your mentor at your next meeting. \n",
        "\n",
        "We hope you enjoyed this practical project. It should have consolidated your data hygiene and pandas skills by looking at a real-world problem involving just the kind of dataset you might encounter as a budding data scientist. Congratulations, and looking forward to seeing you at the next step in the course! "
      ]
    },
    {
      "cell_type": "markdown",
      "metadata": {
        "id": "8P7Co894b0Pg",
        "colab_type": "text"
      },
      "source": [
        "The ranking of which county has the largest price increase fluctuates a bit depending on which years you choose. If you go from 1995 to 2020, the highest ratio was the Bexley borough, and the lowest is Hackney. The list from highest to lowest is available in the last paragraph."
      ]
    }
  ]
}